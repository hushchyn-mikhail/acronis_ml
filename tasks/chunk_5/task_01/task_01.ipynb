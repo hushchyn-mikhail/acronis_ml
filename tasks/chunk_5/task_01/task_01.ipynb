{
 "cells": [
  {
   "cell_type": "code",
   "execution_count": null,
   "metadata": {},
   "outputs": [],
   "source": [
    "%matplotlib inline\n",
    "import matplotlib.pyplot as plt\n",
    "import numpy as np\n",
    "import pandas as pd"
   ]
  },
  {
   "cell_type": "markdown",
   "metadata": {},
   "source": [
    "## Read data\n",
    "\n",
    "Your task is to find parameters $\\beta = (a, b, \\omega)^{T}$ of simulation of mathematical pendulum motion based on its experimental observations $\\{ x_{i}, t_{i} \\}_{i=1}^{n}$. The pendulum motion is simulated as:\n",
    "\n",
    "$$\n",
    "\\hat{x}_{i} = a \\sin{\\omega t_{i}} + b \\cos{\\omega t_{i}}\n",
    "$$"
   ]
  },
  {
   "cell_type": "code",
   "execution_count": null,
   "metadata": {},
   "outputs": [],
   "source": [
    "# Read data for the file\n",
    "data = pd.read_csv(\"data.csv\")\n",
    "\n",
    "# Display the first 5 rows of the data\n",
    "data.head()"
   ]
  },
  {
   "cell_type": "code",
   "execution_count": null,
   "metadata": {},
   "outputs": [],
   "source": [
    "# Get a vector of timestamps of the observations\n",
    "t = data['t'].values\n",
    "\n",
    "# Get a vector of pendulum positions you need to simulate\n",
    "x = data['x'].values"
   ]
  },
  {
   "cell_type": "code",
   "execution_count": null,
   "metadata": {},
   "outputs": [],
   "source": [
    "# Plot the observations\n",
    "\n",
    "plt.figure(figsize=(9, 4.5))\n",
    "plt.scatter(t, x, linewidth=3, label=\"Observations\")\n",
    "plt.xlabel(r'$t$', size=14)\n",
    "plt.xticks(size=14)\n",
    "plt.ylabel(r\"x(t)\", size=14)\n",
    "plt.yticks(size=14)\n",
    "plt.legend(loc='best', fontsize=14)\n",
    "plt.grid(b=1)\n",
    "plt.tight_layout()\n",
    "plt.show()"
   ]
  },
  {
   "cell_type": "markdown",
   "metadata": {},
   "source": [
    "## Init $\\beta$"
   ]
  },
  {
   "cell_type": "code",
   "execution_count": null,
   "metadata": {},
   "outputs": [],
   "source": [
    "beta = np.array([2, 2, 2])\n",
    "\n",
    "print(\"Output:\")\n",
    "beta"
   ]
  },
  {
   "cell_type": "markdown",
   "metadata": {},
   "source": [
    "## Simulation\n",
    "\n",
    "Calculate coordinates $\\hat{x}_{i}$ of the simulation:\n",
    "\n",
    "$$\n",
    "\\hat{x}_{i} = a \\sin{\\omega t_{i}} + b \\cos{\\omega t_{i}}\n",
    "$$\n",
    "\n",
    "where $a = \\beta[0]$, $b = \\beta[1]$ and $\\omega = \\beta[2]$."
   ]
  },
  {
   "cell_type": "code",
   "execution_count": null,
   "metadata": {},
   "outputs": [],
   "source": [
    "def simulation(beta):\n",
    "    a = beta[0]\n",
    "    b = beta[1]\n",
    "    w = beta[2]\n",
    "    x_hat = ... # Put your code here (1 line)\n",
    "    return x_hat\n",
    "\n",
    "x_hat = simulation(beta)\n",
    "\n",
    "print(\"Output:\")\n",
    "x_hat[:2]"
   ]
  },
  {
   "cell_type": "markdown",
   "metadata": {},
   "source": [
    "Expected otput :  \n",
    "`[2.        , 2.36059269]`"
   ]
  },
  {
   "cell_type": "code",
   "execution_count": null,
   "metadata": {},
   "outputs": [],
   "source": [
    "# Plot the simulation\n",
    "plt.figure(figsize=(9, 4.5))\n",
    "plt.scatter(t, x, linewidth=3, label=r\"Observations $x$\")\n",
    "plt.plot(t, x_hat, linewidth=3, label=r\"Simulation $\\hat{x}$\", color='C3')\n",
    "plt.xlabel(r'$t$', size=14)\n",
    "plt.xticks(size=14)\n",
    "plt.ylabel(r\"x(t)\", size=14)\n",
    "plt.yticks(size=14)\n",
    "plt.legend(loc='best', fontsize=14)\n",
    "plt.grid(b=1)\n",
    "plt.tight_layout()\n",
    "plt.show()"
   ]
  },
  {
   "cell_type": "markdown",
   "metadata": {},
   "source": [
    "## Loss\n",
    "\n",
    "Calculate the loss function defined as:\n",
    "\n",
    "$$\n",
    "L(\\beta) = \\frac{1}{n} \\sum_{i=1}^{n} (\\hat{x}_{i} - x_{i})^{2}\n",
    "$$"
   ]
  },
  {
   "cell_type": "code",
   "execution_count": null,
   "metadata": {},
   "outputs": [],
   "source": [
    "def loss_func(beta):\n",
    "    x_hat = ... # Put your code here (1 line)\n",
    "    loss  = ... # Put your code here (1 line)\n",
    "    return loss\n",
    "\n",
    "loss = loss_func(beta)\n",
    "\n",
    "print(\"Output:\")\n",
    "loss"
   ]
  },
  {
   "cell_type": "markdown",
   "metadata": {},
   "source": [
    "Expected otput :  \n",
    "`9.891016015072731`"
   ]
  },
  {
   "cell_type": "markdown",
   "metadata": {},
   "source": [
    "## Gradient of the loss function\n",
    "\n",
    "Calculate gradient of the loss function $\\nabla L$ defined as:\n",
    "    \n",
    "$$\n",
    "\\nabla L(\\beta) = \\left( \\begin{array}{c} \n",
    "         \\frac{ \\partial L(\\beta) }{ \\partial a } \\\\ \n",
    "         \\frac{ \\partial L(\\beta) }{ \\partial b } \\\\\n",
    "         \\frac{ \\partial L(\\beta) }{ \\partial \\omega } \\\\\n",
    "         \\end{array} \\right)\n",
    "$$\n",
    "\n",
    "where\n",
    "\n",
    "$$\n",
    "\\frac{ \\partial L(\\beta) }{ \\partial a } = \\frac{2}{n} \\sum_{i=1}^{n} (\\hat{x}_{i} - x_{i}) \\sin{\\omega t_{i}}\n",
    "$$\n",
    "\n",
    "$$\n",
    "\\frac{ \\partial L(\\beta) }{ \\partial b } = \\frac{2}{n} \\sum_{i=1}^{n} (\\hat{x}_{i} - x_{i}) \\cos{\\omega t_{i}}\n",
    "$$\n",
    "\n",
    "$$\n",
    "\\frac{ \\partial L(\\beta) }{ \\partial \\omega } = \\frac{2}{n} \\sum_{i=1}^{n} (\\hat{x}_{i} - x_{i}) (a t_{i} \\cos{\\omega t_{i}} - b t_{i} \\sin{\\omega t_{i}})\n",
    "$$"
   ]
  },
  {
   "cell_type": "code",
   "execution_count": null,
   "metadata": {},
   "outputs": [],
   "source": [
    "def grad_func(beta):\n",
    "    a = beta[0]\n",
    "    b = beta[1]\n",
    "    w = beta[2]\n",
    "    x_hat  = ... # Put your code here (1 line)\n",
    "    grad_a = ... # Put your code here (1 line)\n",
    "    grad_b = ... # Put your code here (1 line)\n",
    "    grad_w = ... # Put your code here (1 line)\n",
    "    grad = np.array([grad_a, grad_b, grad_w])\n",
    "    return grad\n",
    "\n",
    "grad = grad_func(beta)\n",
    "\n",
    "print(\"Output:\")\n",
    "grad"
   ]
  },
  {
   "cell_type": "markdown",
   "metadata": {},
   "source": [
    "Expected otput :  \n",
    "`[ 2.28446199,  3.26442154, 31.64552842]`"
   ]
  },
  {
   "cell_type": "markdown",
   "metadata": {},
   "source": [
    "## Gradient descent with momentum\n",
    "\n",
    "Now implement gradient descent with momentum. The update rule for $\\beta$ is:\n",
    "\n",
    "$$\n",
    "v_{k} = \\gamma v_{k-1} + \\alpha \\nabla L(\\beta_{k})\n",
    "$$\n",
    "\n",
    "$$\n",
    "\\beta_{k+1} = \\beta_{k} + v_{k}\n",
    "$$\n",
    "\n",
    "With stop criterion:\n",
    "\n",
    "$$\n",
    "| L(\\beta_{(t)}) - L(\\beta_{(t-1)}) | < 10^{-6}\n",
    "$$"
   ]
  },
  {
   "cell_type": "code",
   "execution_count": null,
   "metadata": {},
   "outputs": [],
   "source": [
    "alpha = 0.001                # learning rate\n",
    "gamma = 0.9                   # momentum term\n",
    "beta = np.array([-2, 2, 2])    # init beta, again :)\n",
    "\n",
    "beta_collector = [beta]\n",
    "loss_collector = [loss_func(beta)]\n",
    "v = 0\n",
    "\n",
    "for i_iter in range(5000): # for each iteration\n",
    "    \n",
    "    # Calculate gradient\n",
    "    grad = ... # Put your code here (1 line)\n",
    "    \n",
    "    # Update beta\n",
    "    v    = ... # Put your code here (1 line)\n",
    "    beta = ... # Put your code here (1 line)\n",
    "    \n",
    "    # Save new beta\n",
    "    beta_collector.append(beta)\n",
    "    \n",
    "    # Calculate loss\n",
    "    loss = ... # Put your code here (1 line)\n",
    "    \n",
    "    # Save loss\n",
    "    loss_collector.append(loss)\n",
    "    \n",
    "    # Stop criterion\n",
    "    if np.abs( loss_collector[-1] - loss_collector[-2] ) < 10**-6:\n",
    "        print(\"Iteration: \", i_iter)\n",
    "        print(\"Beta: \", beta)\n",
    "        print(\"Loss: \", loss)\n",
    "        break"
   ]
  },
  {
   "cell_type": "code",
   "execution_count": null,
   "metadata": {},
   "outputs": [],
   "source": [
    "# Calculate simulation\n",
    "x_hat = simulation(beta)"
   ]
  },
  {
   "cell_type": "code",
   "execution_count": null,
   "metadata": {},
   "outputs": [],
   "source": [
    "# Plot learning curve\n",
    "plt.figure(figsize=(9, 4.5))\n",
    "plt.plot(loss_collector, linewidth=3, label=\"GD\", color='C3')\n",
    "plt.xlabel(r'Iteration number', size=14)\n",
    "plt.xticks(size=14)\n",
    "plt.ylabel(r\"Loss function value\", size=14)\n",
    "plt.yticks(size=14)\n",
    "plt.legend(loc='best', fontsize=14, ncol=2)\n",
    "plt.ylim(0, 0.5)\n",
    "plt.tight_layout()\n",
    "plt.show()"
   ]
  },
  {
   "cell_type": "code",
   "execution_count": null,
   "metadata": {},
   "outputs": [],
   "source": [
    "# Plot the simulation\n",
    "plt.figure(figsize=(9, 4.5))\n",
    "plt.scatter(t, x, linewidth=3, label=r\"Observations $x$\")\n",
    "plt.plot(t, x_hat, linewidth=3, label=r\"Simulation $\\hat{x}$\", color='C3')\n",
    "plt.xlabel(r'$t$', size=14)\n",
    "plt.xticks(size=14)\n",
    "plt.ylabel(r\"x(t)\", size=14)\n",
    "plt.yticks(size=14)\n",
    "plt.legend(loc='best', fontsize=14)\n",
    "plt.grid(b=1)\n",
    "plt.tight_layout()\n",
    "plt.show()"
   ]
  },
  {
   "cell_type": "code",
   "execution_count": null,
   "metadata": {},
   "outputs": [],
   "source": []
  }
 ],
 "metadata": {
  "kernelspec": {
   "display_name": "Python 3",
   "language": "python",
   "name": "python3"
  },
  "language_info": {
   "codemirror_mode": {
    "name": "ipython",
    "version": 3
   },
   "file_extension": ".py",
   "mimetype": "text/x-python",
   "name": "python",
   "nbconvert_exporter": "python",
   "pygments_lexer": "ipython3",
   "version": "3.7.4"
  }
 },
 "nbformat": 4,
 "nbformat_minor": 2
}
