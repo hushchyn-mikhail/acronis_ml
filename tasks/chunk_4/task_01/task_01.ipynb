{
 "cells": [
  {
   "cell_type": "code",
   "execution_count": null,
   "metadata": {},
   "outputs": [],
   "source": [
    "%matplotlib inline\n",
    "import matplotlib.pyplot as plt\n",
    "import numpy as np\n",
    "import pandas as pd"
   ]
  },
  {
   "cell_type": "markdown",
   "metadata": {},
   "source": [
    "## Read data\n",
    "\n",
    "Your task is to find parameters $\\beta$ of a linear model that approximates the following observations. Each observation is decribed by only one input feature $x_{1}$."
   ]
  },
  {
   "cell_type": "code",
   "execution_count": null,
   "metadata": {},
   "outputs": [],
   "source": [
    "# Read data for the file\n",
    "data = pd.read_csv(\"data.csv\")\n",
    "\n",
    "# Display the first 5 rows of the data\n",
    "data.head()"
   ]
  },
  {
   "cell_type": "code",
   "execution_count": null,
   "metadata": {},
   "outputs": [],
   "source": [
    "# Get a matrix of the input feature of the observations\n",
    "x1 = data[['x1']].values\n",
    "\n",
    "# Get a vector of target values you need to approximate\n",
    "y = data['y'].values"
   ]
  },
  {
   "cell_type": "code",
   "execution_count": null,
   "metadata": {},
   "outputs": [],
   "source": [
    "# Plot the observations\n",
    "\n",
    "plt.figure(figsize=(9, 4.5))\n",
    "plt.scatter(x1, y, linewidth=3, label=\"Observations\")\n",
    "plt.xlabel(r'$x_{1}$', size=14)\n",
    "plt.xticks(size=14)\n",
    "plt.ylabel(r\"y\", size=14)\n",
    "plt.yticks(size=14)\n",
    "plt.legend(loc='best', fontsize=14)\n",
    "plt.tight_layout()\n",
    "plt.show()"
   ]
  },
  {
   "cell_type": "markdown",
   "metadata": {},
   "source": [
    "## Create matrix X\n",
    "\n",
    "Now you have the vector of targets $y = (y_{1}, y_{2}, ..., y_{n})^{T}$. Create a matrix $X$ that is defined as\n",
    "\n",
    "$$\n",
    "X = \\left( \\begin{array}{ccccc} \n",
    "         1 & x_{11} & x_{12} & \\cdots & x_{1d} \\\\ \n",
    "         1 & x_{21} & x_{22} & \\cdots & x_{2d} \\\\ \n",
    "         \\vdots & \\vdots  & \\vdots  & \\cdots & \\vdots  \\\\\n",
    "         1 & x_{n1} & x_{n2} & \\cdots & x_{nd} \\\\ \n",
    "         \\end{array} \\right)\n",
    "$$\n",
    "\n",
    "Rememder that your observations have only one input feature $x_{i1}$.\n",
    "\n",
    "**Hint:** Use `np.ones()` function to generate a vector of ones $(1, 1, ..., 1)^{T}$. To concatenate two matrices $a$ and $b$ use function `np.hstack((a, b))`."
   ]
  },
  {
   "cell_type": "code",
   "execution_count": null,
   "metadata": {},
   "outputs": [],
   "source": [
    "X = ... # Put your code here (2 lines)\n",
    "\n",
    "print(\"Output:\")\n",
    "X[:2, :]"
   ]
  },
  {
   "cell_type": "markdown",
   "metadata": {},
   "source": [
    "Expected otput :  \n",
    "`[[ 1.   , -1.   ], \n",
    "  [ 1.   , -0.959]]`"
   ]
  },
  {
   "cell_type": "markdown",
   "metadata": {},
   "source": [
    "## Linear model parameters\n",
    "\n",
    "Estimate parameters $\\beta$ of a linear model using the following formula:\n",
    "\n",
    "$$\n",
    "\\beta = (X^{T}X)^{-1}X^{T}y\n",
    "$$\n",
    "\n",
    "**Hint:** Use `nnp.linalg.inv()` function to calculate inverse of a matrix. To multiply two matrices $a$ and $b$ use functions `a.dot(b)` or `np.dot(a, b)`."
   ]
  },
  {
   "cell_type": "code",
   "execution_count": null,
   "metadata": {},
   "outputs": [],
   "source": [
    "beta = ... # Put your code here (1 line)\n",
    "\n",
    "print(\"Output:\")\n",
    "beta"
   ]
  },
  {
   "cell_type": "markdown",
   "metadata": {},
   "source": [
    "## Approximation\n",
    "\n",
    "Check the found parameters $\\beta$ by calculating a vector of approximations $\\hat{y} = (\\hat{y}_{1}, \\hat{y}_{2}, ..., \\hat{y}_{n})^{T}$:\n",
    "\n",
    "$$\n",
    "\\hat{y} = X\\beta\n",
    "$$"
   ]
  },
  {
   "cell_type": "code",
   "execution_count": null,
   "metadata": {},
   "outputs": [],
   "source": [
    "y_hat = ... # Put your code here (1 line)\n",
    "\n",
    "print(\"Output:\")\n",
    "y_hat[:2]"
   ]
  },
  {
   "cell_type": "markdown",
   "metadata": {},
   "source": [
    "Expected otput :  \n",
    "`[-1.4872514 , -1.39737484]`"
   ]
  },
  {
   "cell_type": "code",
   "execution_count": null,
   "metadata": {},
   "outputs": [],
   "source": [
    "plt.figure(figsize=(9, 4.5))\n",
    "plt.scatter(X[:, 1], y, linewidth=3, label=\"Observations\")\n",
    "plt.plot(X[:, 1], y_hat, linewidth=3, label=\"Approximation\", color='C3')\n",
    "plt.xlabel(r'$x_{1}$', size=14)\n",
    "plt.xticks(size=14)\n",
    "plt.ylabel(r\"y\", size=14)\n",
    "plt.yticks(size=14)\n",
    "plt.legend(loc='best', fontsize=14)\n",
    "plt.tight_layout()\n",
    "plt.show()"
   ]
  },
  {
   "cell_type": "markdown",
   "metadata": {},
   "source": [
    "## Loss function\n",
    "\n",
    "Calculate the loss function value for the found approximation:\n",
    "\n",
    "$$\n",
    "L(\\beta) = \\frac{1}{n} (\\hat{y} - y)^{T}(\\hat{y} - y)\n",
    "$$"
   ]
  },
  {
   "cell_type": "code",
   "execution_count": null,
   "metadata": {},
   "outputs": [],
   "source": [
    "loss = ... # Put your code here (1 line)\n",
    "\n",
    "print(\"Output:\")\n",
    "loss"
   ]
  },
  {
   "cell_type": "code",
   "execution_count": null,
   "metadata": {},
   "outputs": [],
   "source": []
  }
 ],
 "metadata": {
  "kernelspec": {
   "display_name": "Python 3",
   "language": "python",
   "name": "python3"
  },
  "language_info": {
   "codemirror_mode": {
    "name": "ipython",
    "version": 3
   },
   "file_extension": ".py",
   "mimetype": "text/x-python",
   "name": "python",
   "nbconvert_exporter": "python",
   "pygments_lexer": "ipython3",
   "version": "3.7.4"
  }
 },
 "nbformat": 4,
 "nbformat_minor": 2
}
