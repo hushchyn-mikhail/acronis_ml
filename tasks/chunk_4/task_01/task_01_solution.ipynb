{
 "cells": [
  {
   "cell_type": "code",
   "execution_count": 1,
   "metadata": {},
   "outputs": [],
   "source": [
    "%matplotlib inline\n",
    "import matplotlib.pyplot as plt\n",
    "import numpy as np\n",
    "import pandas as pd"
   ]
  },
  {
   "cell_type": "markdown",
   "metadata": {},
   "source": [
    "## Data generation"
   ]
  },
  {
   "cell_type": "code",
   "execution_count": 2,
   "metadata": {},
   "outputs": [],
   "source": [
    "def f(x, scale=0.1):\n",
    "    val = 0.75 + 2.25 * x + np.random.RandomState(42).normal(scale=scale, size=len(x))\n",
    "    return val\n",
    "\n",
    "x1 = np.linspace(-1, 1, 50)\n",
    "y = f(x1, scale=0.2)\n",
    "\n",
    "x1 = np.round(x1, 3)\n",
    "y = np.round(y, 3)\n",
    "\n",
    "df = pd.DataFrame()\n",
    "df['x1'] = x1\n",
    "df['y'] = y\n",
    "\n",
    "df.to_csv(\"data.csv\", index=False)"
   ]
  },
  {
   "cell_type": "markdown",
   "metadata": {},
   "source": [
    "## Read data\n",
    "\n",
    "Your task is to find parameters $\\beta$ of a linear model that approximates the following observations. Each observation is decribed by only one input feature $x_{1}$."
   ]
  },
  {
   "cell_type": "code",
   "execution_count": 3,
   "metadata": {},
   "outputs": [
    {
     "data": {
      "text/html": [
       "<div>\n",
       "<style scoped>\n",
       "    .dataframe tbody tr th:only-of-type {\n",
       "        vertical-align: middle;\n",
       "    }\n",
       "\n",
       "    .dataframe tbody tr th {\n",
       "        vertical-align: top;\n",
       "    }\n",
       "\n",
       "    .dataframe thead th {\n",
       "        text-align: right;\n",
       "    }\n",
       "</style>\n",
       "<table border=\"1\" class=\"dataframe\">\n",
       "  <thead>\n",
       "    <tr style=\"text-align: right;\">\n",
       "      <th></th>\n",
       "      <th>x1</th>\n",
       "      <th>y</th>\n",
       "    </tr>\n",
       "  </thead>\n",
       "  <tbody>\n",
       "    <tr>\n",
       "      <td>0</td>\n",
       "      <td>-1.000</td>\n",
       "      <td>-1.401</td>\n",
       "    </tr>\n",
       "    <tr>\n",
       "      <td>1</td>\n",
       "      <td>-0.959</td>\n",
       "      <td>-1.436</td>\n",
       "    </tr>\n",
       "    <tr>\n",
       "      <td>2</td>\n",
       "      <td>-0.918</td>\n",
       "      <td>-1.187</td>\n",
       "    </tr>\n",
       "    <tr>\n",
       "      <td>3</td>\n",
       "      <td>-0.878</td>\n",
       "      <td>-0.920</td>\n",
       "    </tr>\n",
       "    <tr>\n",
       "      <td>4</td>\n",
       "      <td>-0.837</td>\n",
       "      <td>-1.179</td>\n",
       "    </tr>\n",
       "  </tbody>\n",
       "</table>\n",
       "</div>"
      ],
      "text/plain": [
       "      x1      y\n",
       "0 -1.000 -1.401\n",
       "1 -0.959 -1.436\n",
       "2 -0.918 -1.187\n",
       "3 -0.878 -0.920\n",
       "4 -0.837 -1.179"
      ]
     },
     "execution_count": 3,
     "metadata": {},
     "output_type": "execute_result"
    }
   ],
   "source": [
    "# Read data for the file\n",
    "data = pd.read_csv(\"data.csv\")\n",
    "\n",
    "# Display the first 5 rows of the data\n",
    "data.head()"
   ]
  },
  {
   "cell_type": "code",
   "execution_count": 4,
   "metadata": {},
   "outputs": [],
   "source": [
    "# Get a matrix of the input feature of the observations\n",
    "x1 = data[['x1']].values\n",
    "\n",
    "# Get a vector of target values you need to approximate\n",
    "y = data['y'].values"
   ]
  },
  {
   "cell_type": "code",
   "execution_count": 5,
   "metadata": {},
   "outputs": [
    {
     "data": {
      "image/png": "[encoded data removed]",
      "text/plain": [
       "<Figure size 648x324 with 1 Axes>"
      ]
     },
     "metadata": {
      "needs_background": "light"
     },
     "output_type": "display_data"
    }
   ],
   "source": [
    "# Plot the observations\n",
    "\n",
    "plt.figure(figsize=(9, 4.5))\n",
    "plt.scatter(x1, y, linewidth=3, label=\"Observations\")\n",
    "plt.xlabel(r'$x_{1}$', size=14)\n",
    "plt.xticks(size=14)\n",
    "plt.ylabel(r\"y\", size=14)\n",
    "plt.yticks(size=14)\n",
    "plt.legend(loc='best', fontsize=14)\n",
    "plt.tight_layout()\n",
    "plt.show()"
   ]
  },
  {
   "cell_type": "markdown",
   "metadata": {},
   "source": [
    "## Create matrix X\n",
    "\n",
    "Now you have the vector of targets $y = (y_{1}, y_{2}, ..., y_{n})^{T}$. Create a matrix $X$ that is defined as\n",
    "\n",
    "$$\n",
    "X = \\left( \\begin{array}{ccccc} \n",
    "         1 & x_{11} & x_{12} & \\cdots & x_{1d} \\\\ \n",
    "         1 & x_{21} & x_{22} & \\cdots & x_{2d} \\\\ \n",
    "         \\vdots & \\vdots  & \\vdots  & \\cdots & \\vdots  \\\\\n",
    "         1 & x_{n1} & x_{n2} & \\cdots & x_{nd} \\\\ \n",
    "         \\end{array} \\right)\n",
    "$$\n",
    "\n",
    "Rememder that your observations have only one input feature $x_{i1}$.\n",
    "\n",
    "**Hint:** Use `np.ones()` function to generate a vector of ones $(1, 1, ..., 1)^{T}$. To concatenate two matrices $a$ and $b$ use function `np.hstack((a, b))`."
   ]
  },
  {
   "cell_type": "code",
   "execution_count": 6,
   "metadata": {},
   "outputs": [
    {
     "name": "stdout",
     "output_type": "stream",
     "text": [
      "Output:\n"
     ]
    },
    {
     "data": {
      "text/plain": [
       "array([[ 1.   , -1.   ],\n",
       "       [ 1.   , -0.959]])"
      ]
     },
     "execution_count": 6,
     "metadata": {},
     "output_type": "execute_result"
    }
   ],
   "source": [
    "ones = np.ones(shape=(len(x1), 1))\n",
    "X = np.hstack((ones, x1))\n",
    "\n",
    "print(\"Output:\")\n",
    "X[:2, :]"
   ]
  },
  {
   "cell_type": "markdown",
   "metadata": {},
   "source": [
    "Expected otput :  \n",
    "`[[ 1.   , -1.   ], \n",
    "  [ 1.   , -0.959]]`"
   ]
  },
  {
   "cell_type": "markdown",
   "metadata": {},
   "source": [
    "## Linear model parameters\n",
    "\n",
    "Estimate parameters $\\beta$ of a linear model using the following formula:\n",
    "\n",
    "$$\n",
    "\\beta = (X^{T}X)^{-1}X^{T}y\n",
    "$$\n",
    "\n",
    "**Hint:** Use `nnp.linalg.inv()` function to calculate inverse of a matrix. To multiply two matrices $a$ and $b$ use functions `a.dot(b)` or `np.dot(a, b)`."
   ]
  },
  {
   "cell_type": "code",
   "execution_count": 7,
   "metadata": {},
   "outputs": [
    {
     "name": "stdout",
     "output_type": "stream",
     "text": [
      "Output:\n"
     ]
    },
    {
     "data": {
      "text/plain": [
       "array([0.70486  , 2.1921114])"
      ]
     },
     "execution_count": 7,
     "metadata": {},
     "output_type": "execute_result"
    }
   ],
   "source": [
    "beta = np.linalg.inv( X.T.dot(X) ).dot(X.T).dot(y)\n",
    "\n",
    "print(\"Output:\")\n",
    "beta"
   ]
  },
  {
   "cell_type": "markdown",
   "metadata": {},
   "source": [
    "## Approximation\n",
    "\n",
    "Check the found parameters $\\beta$ by calculating a vector of approximations $\\hat{y} = (\\hat{y}_{1}, \\hat{y}_{2}, ..., \\hat{y}_{n})^{T}$:\n",
    "\n",
    "$$\n",
    "\\hat{y} = X\\beta\n",
    "$$"
   ]
  },
  {
   "cell_type": "code",
   "execution_count": 8,
   "metadata": {},
   "outputs": [
    {
     "name": "stdout",
     "output_type": "stream",
     "text": [
      "Output:\n"
     ]
    },
    {
     "data": {
      "text/plain": [
       "array([-1.4872514 , -1.39737484])"
      ]
     },
     "execution_count": 8,
     "metadata": {},
     "output_type": "execute_result"
    }
   ],
   "source": [
    "y_hat = X.dot(beta)\n",
    "\n",
    "print(\"Output:\")\n",
    "y_hat[:2]"
   ]
  },
  {
   "cell_type": "markdown",
   "metadata": {},
   "source": [
    "Expected otput :  \n",
    "`[-1.4872514 , -1.39737484]`"
   ]
  },
  {
   "cell_type": "code",
   "execution_count": 9,
   "metadata": {},
   "outputs": [
    {
     "data": {
      "image/png": "[encoded data removed]",
      "text/plain": [
       "<Figure size 648x324 with 1 Axes>"
      ]
     },
     "metadata": {
      "needs_background": "light"
     },
     "output_type": "display_data"
    }
   ],
   "source": [
    "plt.figure(figsize=(9, 4.5))\n",
    "plt.scatter(X[:, 1], y, linewidth=3, label=\"Observations\")\n",
    "plt.plot(X[:, 1], y_hat, linewidth=3, label=\"Approximation\", color='C3')\n",
    "plt.xlabel(r'$x_{1}$', size=14)\n",
    "plt.xticks(size=14)\n",
    "plt.ylabel(r\"y\", size=14)\n",
    "plt.yticks(size=14)\n",
    "plt.legend(loc='best', fontsize=14)\n",
    "plt.tight_layout()\n",
    "plt.show()"
   ]
  },
  {
   "cell_type": "markdown",
   "metadata": {},
   "source": [
    "## Loss function\n",
    "\n",
    "Calculate the loss function value for the found approximation:\n",
    "\n",
    "$$\n",
    "L(\\beta) = \\frac{1}{n} (\\hat{y} - y)^{T}(\\hat{y} - y)\n",
    "$$"
   ]
  },
  {
   "cell_type": "code",
   "execution_count": 10,
   "metadata": {},
   "outputs": [
    {
     "name": "stdout",
     "output_type": "stream",
     "text": [
      "Output:\n"
     ]
    },
    {
     "data": {
      "text/plain": [
       "0.03306972383843927"
      ]
     },
     "execution_count": 10,
     "metadata": {},
     "output_type": "execute_result"
    }
   ],
   "source": [
    "loss = (y_hat - y).T.dot(y_hat - y) / len(y)\n",
    "\n",
    "print(\"Output:\")\n",
    "loss"
   ]
  },
  {
   "cell_type": "code",
   "execution_count": null,
   "metadata": {},
   "outputs": [],
   "source": []
  }
 ],
 "metadata": {
  "kernelspec": {
   "display_name": "Python 3",
   "language": "python",
   "name": "python3"
  },
  "language_info": {
   "codemirror_mode": {
    "name": "ipython",
    "version": 3
   },
   "file_extension": ".py",
   "mimetype": "text/x-python",
   "name": "python",
   "nbconvert_exporter": "python",
   "pygments_lexer": "ipython3",
   "version": "3.7.4"
  }
 },
 "nbformat": 4,
 "nbformat_minor": 2
}
