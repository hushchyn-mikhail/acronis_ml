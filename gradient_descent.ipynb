{
 "cells": [
  {
   "cell_type": "code",
   "execution_count": 1,
   "metadata": {},
   "outputs": [],
   "source": [
    "%matplotlib inline\n",
    "import matplotlib.pyplot as plt\n",
    "import numpy as np\n",
    "import pandas as pd"
   ]
  },
  {
   "cell_type": "markdown",
   "metadata": {},
   "source": [
    "# TASK 1"
   ]
  },
  {
   "cell_type": "code",
   "execution_count": 2,
   "metadata": {},
   "outputs": [],
   "source": [
    "def f(x):\n",
    "    x1 = x[0]\n",
    "    x2 = x[1]\n",
    "    val = x1**2 + 5 * x2**2\n",
    "    val = - np.cos(x1**2) - np.cos(x2**2) - x1 - x2\n",
    "    return val\n",
    "\n",
    "def grad(x):\n",
    "    x1 = x[0]\n",
    "    x2 = x[1]\n",
    "    val = np.array([2 * x1 * np.sin(x1**2) - 1, 2 * x2 * np.sin(x2**2) - 1])\n",
    "    return val"
   ]
  },
  {
   "cell_type": "code",
   "execution_count": 3,
   "metadata": {},
   "outputs": [
    {
     "name": "stdout",
     "output_type": "stream",
     "text": [
      "Iteration:  1\n",
      "Current x:  [0 1]\n",
      "Gradient:  [-1.      0.6829]\n",
      "New x:  [0.25   0.8293] \n",
      "\n",
      "Iteration:  2\n",
      "Current x:  [0.25   0.8293]\n",
      "Gradient:  [-0.9688  0.0529]\n",
      "New x:  [0.4922 0.8161] \n",
      "\n",
      "Iteration:  3\n",
      "Current x:  [0.4922 0.8161]\n",
      "Gradient:  [-0.7638  0.0085]\n",
      "New x:  [0.6832 0.814 ] \n",
      "\n",
      "Iteration:  4\n",
      "Current x:  [0.6832 0.814 ]\n",
      "Gradient:  [-0.3851  0.0015]\n",
      "New x:  [0.7795 0.8136] \n",
      "\n",
      "Iteration:  5\n",
      "Current x:  [0.7795 0.8136]\n",
      "Gradient:  [-0.1099  0.0002]\n",
      "New x:  [0.807  0.8136] \n",
      "\n",
      "Iteration:  6\n",
      "Current x:  [0.807  0.8136]\n",
      "Gradient:  [-0.0216  0.0002]\n",
      "New x:  [0.8124 0.8136] \n",
      "\n",
      "Iteration:  7\n",
      "Current x:  [0.8124 0.8136]\n",
      "Gradient:  [-0.0038  0.0002]\n",
      "New x:  [0.8134 0.8136] \n",
      "\n",
      "Iteration:  8\n",
      "Current x:  [0.8134 0.8136]\n",
      "Gradient:  [-0.0005  0.0002]\n",
      "New x:  [0.8135 0.8136] \n",
      "\n",
      "Iteration:  9\n",
      "Current x:  [0.8135 0.8136]\n",
      "Gradient:  [-0.0002  0.0002]\n",
      "New x:  [0.8136 0.8136] \n",
      "\n",
      "Iteration:  10\n",
      "Current x:  [0.8136 0.8136]\n",
      "Gradient:  [0.0002 0.0002]\n",
      "New x:  [0.8136 0.8136] \n",
      "\n"
     ]
    }
   ],
   "source": [
    "alpha = 0.25\n",
    "n_iters = 11\n",
    "\n",
    "x_0 = np.array([0, 1])\n",
    "x_curr = x_0\n",
    "\n",
    "x_iters = [x_0]\n",
    "for i in range(1, n_iters):\n",
    "    print('Iteration: ', i)\n",
    "    print ('Current x: ', x_curr)\n",
    "    g = grad(x_curr)\n",
    "    g = np.round(g, 4)\n",
    "    print('Gradient: ', g)\n",
    "    x_new = x_curr - alpha * g\n",
    "    x_new = np.round(x_new, 4)\n",
    "    x_iters.append(x_new)\n",
    "    print('New x: ', x_new, '\\n')\n",
    "    x_curr = x_new\n",
    "x_iters = np.array(x_iters)"
   ]
  },
  {
   "cell_type": "code",
   "execution_count": 4,
   "metadata": {},
   "outputs": [],
   "source": [
    "# Generate grid\n",
    "N = 100\n",
    "box = 3\n",
    "x1 = np.linspace(-box, box, N)\n",
    "x2 = np.linspace(-box, box, N)\n",
    "\n",
    "x1_grid, x2_grid = np.meshgrid(x1, x2)\n",
    "f_grid = f([x1_grid, x2_grid])"
   ]
  },
  {
   "cell_type": "code",
   "execution_count": 5,
   "metadata": {},
   "outputs": [
    {
     "data": {
      "image/png": "[encoded data removed]",
      "text/plain": [
       "<Figure size 648x324 with 2 Axes>"
      ]
     },
     "metadata": {
      "needs_background": "light"
     },
     "output_type": "display_data"
    }
   ],
   "source": [
    "plt.figure(figsize=(9, 4.5))\n",
    "plt.contourf(x1, x2, f_grid, levels=20)\n",
    "plt.colorbar()\n",
    "\n",
    "plt.scatter(x_iters[:, 0], x_iters[:, 1], color='C3', linewidth=2)\n",
    "plt.plot(x_iters[:, 0], x_iters[:, 1], color='C3', linewidth=2)\n",
    "\n",
    "plt.xlabel('X1', size=14)\n",
    "plt.xticks(size=14)\n",
    "\n",
    "plt.ylabel('X2', size=14)\n",
    "plt.yticks(size=14)\n",
    "\n",
    "plt.xlim(-box, box)\n",
    "plt.ylim(-box, box)\n",
    "\n",
    "plt.tight_layout()\n",
    "plt.show()"
   ]
  },
  {
   "cell_type": "code",
   "execution_count": null,
   "metadata": {},
   "outputs": [],
   "source": []
  }
 ],
 "metadata": {
  "kernelspec": {
   "display_name": "Python 3",
   "language": "python",
   "name": "python3"
  },
  "language_info": {
   "codemirror_mode": {
    "name": "ipython",
    "version": 3
   },
   "file_extension": ".py",
   "mimetype": "text/x-python",
   "name": "python",
   "nbconvert_exporter": "python",
   "pygments_lexer": "ipython3",
   "version": "3.7.4"
  }
 },
 "nbformat": 4,
 "nbformat_minor": 2
}
