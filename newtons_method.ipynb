{
 "cells": [
  {
   "cell_type": "code",
   "execution_count": 1,
   "metadata": {},
   "outputs": [],
   "source": [
    "%matplotlib inline\n",
    "import matplotlib.pyplot as plt\n",
    "import numpy as np\n",
    "import pandas as pd"
   ]
  },
  {
   "cell_type": "markdown",
   "metadata": {},
   "source": [
    "# EXAMPLE 1"
   ]
  },
  {
   "cell_type": "code",
   "execution_count": 2,
   "metadata": {},
   "outputs": [],
   "source": [
    "def f(x):\n",
    "    #val = 1. - np.exp(- (x - 1)**2)\n",
    "    val = x**4 + 2*x**3 + 3 * x**2 + 1\n",
    "    return val\n",
    "\n",
    "def df(x):\n",
    "    #val = -2. * (1 - x) * np.exp(- (x - 1)**2)\n",
    "    val = 4 * x**3 + 6 * x**2 + 6*x\n",
    "    return val\n",
    "\n",
    "def ddf(x):\n",
    "    #val = 2. * np.exp(- (x - 1)**2) * (1 + 2. * (1 - x)**2)\n",
    "    val = 12 * x**2 + 12 * x + 6\n",
    "    return val"
   ]
  },
  {
   "cell_type": "code",
   "execution_count": 3,
   "metadata": {},
   "outputs": [
    {
     "name": "stdout",
     "output_type": "stream",
     "text": [
      "Iteration:  1\n",
      "Current x:  1.0\n",
      "Gradient:  16.0\n",
      "Hessian:  30.0\n",
      "New x:  0.4667 \n",
      "\n",
      "Iteration:  2\n",
      "Current x:  0.4667\n",
      "Gradient:  4.5137\n",
      "Hessian:  14.2141\n",
      "New x:  0.1491 \n",
      "\n",
      "Iteration:  3\n",
      "Current x:  0.1491\n",
      "Gradient:  1.0412\n",
      "Hessian:  8.056\n",
      "New x:  0.0199 \n",
      "\n"
     ]
    }
   ],
   "source": [
    "n_iters = 4\n",
    "\n",
    "x_0 = 1.\n",
    "x_curr = x_0\n",
    "\n",
    "x_iters = [x_0]\n",
    "for i in range(1, n_iters):\n",
    "    print('Iteration: ', i)\n",
    "    print ('Current x: ', x_curr)\n",
    "    g = df(x_curr)\n",
    "    g = np.round(g, 4)\n",
    "    print('Gradient: ', g)\n",
    "    h = ddf(x_curr)\n",
    "    h = np.round(h, 4)\n",
    "    print('Hessian: ', h)\n",
    "    x_new = x_curr - g / (h + 10**-8)\n",
    "    x_new = np.round(x_new, 4)\n",
    "    x_iters.append(x_new)\n",
    "    print('New x: ', x_new, '\\n')\n",
    "    x_curr = x_new\n",
    "x_iters = np.array(x_iters)\n",
    "f_iters = f(x_iters)"
   ]
  },
  {
   "cell_type": "code",
   "execution_count": 4,
   "metadata": {},
   "outputs": [],
   "source": [
    "N = 100\n",
    "box = 1.5\n",
    "\n",
    "x = np.linspace(-box, box, N)\n",
    "fx = f(x)"
   ]
  },
  {
   "cell_type": "code",
   "execution_count": 5,
   "metadata": {},
   "outputs": [
    {
     "data": {
      "image/png": "[encoded data removed]",
      "text/plain": [
       "<Figure size 648x324 with 1 Axes>"
      ]
     },
     "metadata": {
      "needs_background": "light"
     },
     "output_type": "display_data"
    }
   ],
   "source": [
    "plt.figure(figsize=(9, 4.5))\n",
    "plt.plot(x, fx, linewidth=3, label=r\"$f(x)$\")\n",
    "\n",
    "plt.scatter(x_iters, f_iters, color='C3', linewidth=3, label=\"iterations\")\n",
    "plt.plot(x_iters, f_iters, color='C3', linewidth=3)\n",
    "\n",
    "plt.xlabel('X', size=14)\n",
    "plt.xticks(size=14)\n",
    "\n",
    "plt.ylabel(r\"$f(x)$\", size=14)\n",
    "plt.yticks(size=14)\n",
    "\n",
    "plt.xlim(-box, box)\n",
    "plt.ylim(0, 10)\n",
    "\n",
    "plt.legend(loc='best', fontsize=14)\n",
    "\n",
    "plt.tight_layout()\n",
    "plt.savefig(fname=\"plots/newton_example_1.pdf\", format=\"pdf\")\n",
    "plt.show()"
   ]
  },
  {
   "cell_type": "code",
   "execution_count": null,
   "metadata": {},
   "outputs": [],
   "source": []
  }
 ],
 "metadata": {
  "kernelspec": {
   "display_name": "Python 3",
   "language": "python",
   "name": "python3"
  },
  "language_info": {
   "codemirror_mode": {
    "name": "ipython",
    "version": 3
   },
   "file_extension": ".py",
   "mimetype": "text/x-python",
   "name": "python",
   "nbconvert_exporter": "python",
   "pygments_lexer": "ipython3",
   "version": "3.7.4"
  }
 },
 "nbformat": 4,
 "nbformat_minor": 2
}
